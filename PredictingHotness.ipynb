{
 "cells": [
  {
   "cell_type": "code",
   "execution_count": 12,
   "metadata": {},
   "outputs": [],
   "source": [
    "import pandas as pd\n",
    "import numpy as np\n",
    "import seaborn as sns\n",
    "import matplotlib\n",
    "from sklearn import metrics\n",
    "from sklearn.metrics import accuracy_score\n",
    "from sklearn.model_selection import cross_val_score, GridSearchCV\n",
    "import matplotlib.pyplot as plt\n",
    "import xgboost as xgb\n",
    "from xgboost.sklearn import XGBRegressor\n",
    "from sklearn.model_selection import KFold\n",
    "from sklearn.model_selection import cross_val_score, GridSearchCV\n",
    "from sklearn.ensemble import RandomForestClassifier\n",
    "import copy\n",
    "from sklearn.model_selection import train_test_split\n",
    "from sklearn import svm\n",
    "from sklearn.metrics import r2_score, roc_auc_score"
   ]
  },
  {
   "cell_type": "code",
   "execution_count": 2,
   "metadata": {},
   "outputs": [],
   "source": [
    "train = pd.read_csv(\"cleaned_million.csv\")"
   ]
  },
  {
   "cell_type": "code",
   "execution_count": 3,
   "metadata": {},
   "outputs": [],
   "source": [
    "drop_list = ['artist_location', 'artist_name', 'artist_id', 'artist_terms', 'artist_terms_freq', 'beats_start', 'artist_terms_weight', 'bars_confidence','bars_start', 'beats_confidence', 'release', 'sections_confidence', 'sections_start', 'segments_confidence', 'segments_loudness_max', 'segments_loudness_max_time', 'segments_loudness_start', 'segments_pitches','segments_start', 'segments_timbre', 'tatums_confidence', 'tatums_start', 'title', 'year']\n",
    "train = train.drop(drop_list, axis=1)"
   ]
  },
  {
   "cell_type": "code",
   "execution_count": 4,
   "metadata": {},
   "outputs": [
    {
     "data": {
      "text/html": [
       "<div>\n",
       "<style scoped>\n",
       "    .dataframe tbody tr th:only-of-type {\n",
       "        vertical-align: middle;\n",
       "    }\n",
       "\n",
       "    .dataframe tbody tr th {\n",
       "        vertical-align: top;\n",
       "    }\n",
       "\n",
       "    .dataframe thead th {\n",
       "        text-align: right;\n",
       "    }\n",
       "</style>\n",
       "<table border=\"1\" class=\"dataframe\">\n",
       "  <thead>\n",
       "    <tr style=\"text-align: right;\">\n",
       "      <th></th>\n",
       "      <th>Unnamed: 0</th>\n",
       "      <th>artist_familiarity</th>\n",
       "      <th>artist_hotttnesss</th>\n",
       "      <th>artist_latitude</th>\n",
       "      <th>artist_longitude</th>\n",
       "      <th>duration</th>\n",
       "      <th>end_of_fade_in</th>\n",
       "      <th>key</th>\n",
       "      <th>key_confidence</th>\n",
       "      <th>loudness</th>\n",
       "      <th>mode</th>\n",
       "      <th>mode_confidence</th>\n",
       "      <th>song_hotttnesss</th>\n",
       "      <th>start_of_fade_out</th>\n",
       "      <th>tempo</th>\n",
       "      <th>time_signature</th>\n",
       "      <th>time_signature_confidence</th>\n",
       "    </tr>\n",
       "  </thead>\n",
       "  <tbody>\n",
       "    <tr>\n",
       "      <th>0</th>\n",
       "      <td>1</td>\n",
       "      <td>0.626958</td>\n",
       "      <td>0.434860</td>\n",
       "      <td>NaN</td>\n",
       "      <td>NaN</td>\n",
       "      <td>252.99546</td>\n",
       "      <td>0.514</td>\n",
       "      <td>1.0</td>\n",
       "      <td>0.429</td>\n",
       "      <td>-11.061</td>\n",
       "      <td>0.0</td>\n",
       "      <td>0.670</td>\n",
       "      <td>0.475638</td>\n",
       "      <td>241.424</td>\n",
       "      <td>80.084</td>\n",
       "      <td>4.0</td>\n",
       "      <td>0.533</td>\n",
       "    </tr>\n",
       "    <tr>\n",
       "      <th>1</th>\n",
       "      <td>2</td>\n",
       "      <td>0.425724</td>\n",
       "      <td>0.000000</td>\n",
       "      <td>NaN</td>\n",
       "      <td>NaN</td>\n",
       "      <td>78.02730</td>\n",
       "      <td>0.974</td>\n",
       "      <td>3.0</td>\n",
       "      <td>0.000</td>\n",
       "      <td>-24.140</td>\n",
       "      <td>1.0</td>\n",
       "      <td>0.000</td>\n",
       "      <td>NaN</td>\n",
       "      <td>78.027</td>\n",
       "      <td>54.874</td>\n",
       "      <td>4.0</td>\n",
       "      <td>0.000</td>\n",
       "    </tr>\n",
       "    <tr>\n",
       "      <th>2</th>\n",
       "      <td>3</td>\n",
       "      <td>0.611495</td>\n",
       "      <td>0.334520</td>\n",
       "      <td>NaN</td>\n",
       "      <td>NaN</td>\n",
       "      <td>163.63057</td>\n",
       "      <td>0.000</td>\n",
       "      <td>7.0</td>\n",
       "      <td>0.380</td>\n",
       "      <td>-5.795</td>\n",
       "      <td>1.0</td>\n",
       "      <td>0.385</td>\n",
       "      <td>NaN</td>\n",
       "      <td>158.511</td>\n",
       "      <td>77.150</td>\n",
       "      <td>3.0</td>\n",
       "      <td>0.369</td>\n",
       "    </tr>\n",
       "    <tr>\n",
       "      <th>3</th>\n",
       "      <td>4</td>\n",
       "      <td>0.367255</td>\n",
       "      <td>0.311616</td>\n",
       "      <td>NaN</td>\n",
       "      <td>NaN</td>\n",
       "      <td>199.99302</td>\n",
       "      <td>0.000</td>\n",
       "      <td>10.0</td>\n",
       "      <td>0.551</td>\n",
       "      <td>-16.477</td>\n",
       "      <td>1.0</td>\n",
       "      <td>0.528</td>\n",
       "      <td>NaN</td>\n",
       "      <td>195.808</td>\n",
       "      <td>120.382</td>\n",
       "      <td>4.0</td>\n",
       "      <td>1.000</td>\n",
       "    </tr>\n",
       "    <tr>\n",
       "      <th>4</th>\n",
       "      <td>5</td>\n",
       "      <td>0.601306</td>\n",
       "      <td>0.363676</td>\n",
       "      <td>36.87652</td>\n",
       "      <td>-89.58828</td>\n",
       "      <td>279.35302</td>\n",
       "      <td>0.433</td>\n",
       "      <td>9.0</td>\n",
       "      <td>0.519</td>\n",
       "      <td>-12.474</td>\n",
       "      <td>1.0</td>\n",
       "      <td>0.491</td>\n",
       "      <td>0.445455</td>\n",
       "      <td>261.288</td>\n",
       "      <td>99.024</td>\n",
       "      <td>4.0</td>\n",
       "      <td>1.000</td>\n",
       "    </tr>\n",
       "  </tbody>\n",
       "</table>\n",
       "</div>"
      ],
      "text/plain": [
       "   Unnamed: 0  artist_familiarity  artist_hotttnesss  artist_latitude  \\\n",
       "0           1            0.626958           0.434860              NaN   \n",
       "1           2            0.425724           0.000000              NaN   \n",
       "2           3            0.611495           0.334520              NaN   \n",
       "3           4            0.367255           0.311616              NaN   \n",
       "4           5            0.601306           0.363676         36.87652   \n",
       "\n",
       "   artist_longitude   duration  end_of_fade_in   key  key_confidence  \\\n",
       "0               NaN  252.99546           0.514   1.0           0.429   \n",
       "1               NaN   78.02730           0.974   3.0           0.000   \n",
       "2               NaN  163.63057           0.000   7.0           0.380   \n",
       "3               NaN  199.99302           0.000  10.0           0.551   \n",
       "4         -89.58828  279.35302           0.433   9.0           0.519   \n",
       "\n",
       "   loudness  mode  mode_confidence  song_hotttnesss  start_of_fade_out  \\\n",
       "0   -11.061   0.0            0.670         0.475638            241.424   \n",
       "1   -24.140   1.0            0.000              NaN             78.027   \n",
       "2    -5.795   1.0            0.385              NaN            158.511   \n",
       "3   -16.477   1.0            0.528              NaN            195.808   \n",
       "4   -12.474   1.0            0.491         0.445455            261.288   \n",
       "\n",
       "     tempo  time_signature  time_signature_confidence  \n",
       "0   80.084             4.0                      0.533  \n",
       "1   54.874             4.0                      0.000  \n",
       "2   77.150             3.0                      0.369  \n",
       "3  120.382             4.0                      1.000  \n",
       "4   99.024             4.0                      1.000  "
      ]
     },
     "execution_count": 4,
     "metadata": {},
     "output_type": "execute_result"
    }
   ],
   "source": [
    "train.head()"
   ]
  },
  {
   "cell_type": "code",
   "execution_count": 4,
   "metadata": {},
   "outputs": [],
   "source": [
    "train = train.dropna(axis=0, how='any')"
   ]
  },
  {
   "cell_type": "code",
   "execution_count": 6,
   "metadata": {},
   "outputs": [
    {
     "data": {
      "text/plain": [
       "(2209,)"
      ]
     },
     "execution_count": 6,
     "metadata": {},
     "output_type": "execute_result"
    }
   ],
   "source": [
    "Y = copy.deepcopy(train.song_hotttnesss)\n",
    "Y.shape"
   ]
  },
  {
   "cell_type": "code",
   "execution_count": 7,
   "metadata": {},
   "outputs": [],
   "source": [
    "train = train.drop(\"song_hotttnesss\", axis=1)"
   ]
  },
  {
   "cell_type": "code",
   "execution_count": 8,
   "metadata": {},
   "outputs": [
    {
     "name": "stdout",
     "output_type": "stream",
     "text": [
      "(2209, 16) (2209,)\n"
     ]
    }
   ],
   "source": [
    "print(train.shape, Y.shape)"
   ]
  },
  {
   "cell_type": "code",
   "execution_count": 22,
   "metadata": {},
   "outputs": [
    {
     "name": "stdout",
     "output_type": "stream",
     "text": [
      "Accuracy: 28.88%\n"
     ]
    }
   ],
   "source": [
    "X_train, X_test, y_train, y_test = train_test_split(train, Y, test_size=0.33, random_state=7)\n",
    "model = XGBRegressor()\n",
    "model.fit(X_train, y_train)\n",
    "# make predictions for test data\n",
    "y_pred = model.predict(X_test)\n",
    "accuracy = model.score(X_test, y_test)\n",
    "print(\"Accuracy: %.2f%%\" % (accuracy * 100.0))"
   ]
  },
  {
   "cell_type": "code",
   "execution_count": 23,
   "metadata": {},
   "outputs": [
    {
     "name": "stdout",
     "output_type": "stream",
     "text": [
      "0.32714122739196894\n"
     ]
    }
   ],
   "source": [
    "X = train.drop([\"song_hotttnesss\"], axis=1)\n",
    "Y = train[\"song_hotttnesss\"]\n",
    "X, X_Val, Y, Y_Val = train_test_split(X, Y)\n",
    "\n",
    "# A parameter grid for XGBoost\n",
    "params = {'min_child_weight':[4,5], 'gamma':[i/10.0 for i in range(3,6)],  'subsample':[i/10.0 for i in range(6,11)],\n",
    "'colsample_bytree':[i/10.0 for i in range(6,11)], 'max_depth': [2,3,4]}\n",
    "\n",
    "# Initialize XGB and GridSearch\n",
    "xgb = XGBRegressor(nthread=-1) \n",
    "\n",
    "grid = GridSearchCV(xgb, params)\n",
    "grid.fit(X, Y)\n",
    "\n",
    "# Print the r2 score\n",
    "print(r2_score(Y_Val, grid.best_estimator_.predict(X_Val))) "
   ]
  },
  {
   "cell_type": "code",
   "execution_count": 25,
   "metadata": {},
   "outputs": [
    {
     "data": {
      "text/plain": [
       "{'colsample_bytree': 0.9,\n",
       " 'gamma': 0.4,\n",
       " 'max_depth': 4,\n",
       " 'min_child_weight': 4,\n",
       " 'subsample': 0.9}"
      ]
     },
     "execution_count": 25,
     "metadata": {},
     "output_type": "execute_result"
    }
   ],
   "source": [
    "grid.best_params_"
   ]
  },
  {
   "cell_type": "code",
   "execution_count": 34,
   "metadata": {},
   "outputs": [
    {
     "name": "stdout",
     "output_type": "stream",
     "text": [
      "0.3775282582022438\n"
     ]
    }
   ],
   "source": [
    "X = train.drop([\"song_hotttnesss\"], axis=1)\n",
    "Y = train[\"song_hotttnesss\"]\n",
    "X, X_Val, Y, Y_Val = train_test_split(X, Y)\n",
    "\n",
    "# A parameter grid for XGBoost\n",
    "params = {'learning_rate':[0.05, 0.1]}\n",
    "\n",
    "# Initialize XGB and GridSearch\n",
    "xgb = XGBRegressor(nthread=-1, min_child_weight=4, gamma=0.4,  subsample=0.9,\n",
    "colsample_bytree=0.9, max_depth=4, n_estimators=950) \n",
    "\n",
    "grid = GridSearchCV(xgb, params)\n",
    "grid.fit(X, Y)\n",
    "\n",
    "# Print the r2 score\n",
    "print(r2_score(Y_Val, grid.best_estimator_.predict(X_Val))) "
   ]
  },
  {
   "cell_type": "code",
   "execution_count": 30,
   "metadata": {},
   "outputs": [
    {
     "data": {
      "text/plain": [
       "{'learning_rate': 0.05, 'n_estimators': 800}"
      ]
     },
     "execution_count": 30,
     "metadata": {},
     "output_type": "execute_result"
    }
   ],
   "source": [
    "grid.best_params_"
   ]
  },
  {
   "cell_type": "code",
   "execution_count": null,
   "metadata": {},
   "outputs": [],
   "source": []
  }
 ],
 "metadata": {
  "kernelspec": {
   "display_name": "Python 3",
   "language": "python",
   "name": "python3"
  },
  "language_info": {
   "codemirror_mode": {
    "name": "ipython",
    "version": 3
   },
   "file_extension": ".py",
   "mimetype": "text/x-python",
   "name": "python",
   "nbconvert_exporter": "python",
   "pygments_lexer": "ipython3",
   "version": "3.6.4"
  }
 },
 "nbformat": 4,
 "nbformat_minor": 2
}
